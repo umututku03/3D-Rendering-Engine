{
  "nbformat": 4,
  "nbformat_minor": 0,
  "metadata": {
    "colab": {
      "provenance": [],
      "authorship_tag": "ABX9TyM5bC/XtbO7UOxMn8vnn80a"
    },
    "kernelspec": {
      "name": "python3",
      "display_name": "Python 3"
    },
    "language_info": {
      "name": "python"
    }
  },
  "cells": [
    {
      "cell_type": "code",
      "execution_count": null,
      "metadata": {
        "id": "Jx_dJ9ryFkZ-"
      },
      "outputs": [],
      "source": [
        "import numpy as np\n",
        "from PIL import Image, ImageDraw"
      ]
    },
    {
      "cell_type": "code",
      "source": [
        "# To save the frames\n",
        "output_dir = \"/path/to/save/images\"\n",
        "if not os.path.exists(output_dir):\n",
        "    os.makedirs(output_dir)"
      ],
      "metadata": {
        "id": "uPFLKShtF5t5"
      },
      "execution_count": null,
      "outputs": []
    },
    {
      "cell_type": "code",
      "source": [
        "# Step 1: Define the 3D coordinates of the cube\n",
        "def create_cube(size=2):\n",
        "    half_size = size / 2 # Simplify the definition of cube's vertices\n",
        "    # Define the cube's 8 vertices\n",
        "    # Each vertex is specified by its (x, y, z) coordinates\n",
        "    points = np.array([\n",
        "        [-half_size, -half_size, -half_size], # bottom-left vertex of the front\n",
        "        [half_size, -half_size, -half_size], # bottom-right vertex of the front\n",
        "        [half_size, half_size, -half_size], # top-right vertex of the front\n",
        "        [-half_size, half_size, -half_size], # top-left vertex of the front\n",
        "        [-half_size, -half_size, half_size], # bottom-left vertex of the back\n",
        "        [half_size, -half_size, half_size], # bottom-right vertext of the back\n",
        "        [half_size, half_size, half_size], # top-right vertex of the back\n",
        "        [-half_size, half_size, half_size], # top-left vertex of the back\n",
        "    ])\n",
        "    return points"
      ],
      "metadata": {
        "id": "5iJqYzABFu0T"
      },
      "execution_count": null,
      "outputs": []
    },
    {
      "cell_type": "code",
      "source": [
        "# Step 2a: Define the rotation matrix\n",
        "def rotation_matrix(axis, theta):\n",
        "    \"\"\"\n",
        "    - `axis` is the 3D vector representing the axis of rotation\n",
        "    - `theta` is the angle of rotation in radians\n",
        "    \"\"\"\n",
        "    # Normalizing the Rotation Axis (so that the rotation is performed around\n",
        "    # a unit vector)\n",
        "    axis = axis / np.sqrt(np.dot(axis, axis))\n",
        "    # Quaternion components (not so sure)\n",
        "    a = np.cos(theta / 2.0)\n",
        "    b, c, d = -axis * np.sin(theta / 2.0)\n",
        "    # Constructing the rotation matrix\n",
        "    return np.array([\n",
        "        [a*a + b*b - c*c - d*d, 2*(b*c - a*d), 2*(b*d + a*c)],\n",
        "        [2*(b*c + a*d), a*a + c*c - b*b - d*d, 2*(c*d - a*b)],\n",
        "        [2*(b*d - a*c), 2*(c*d + a*b), a*a + d*d - b*b - c*c]\n",
        "    ])"
      ],
      "metadata": {
        "id": "RcZHxAPsFwqr"
      },
      "execution_count": null,
      "outputs": []
    },
    {
      "cell_type": "code",
      "source": [
        "# Step 2b: Define the affine transformation matrix (rotation + translation)\n",
        "def affine_matrix(rotation_axis, theta, translation):\n",
        "    \"\"\"\n",
        "    - `rotation_axis` is the 3D vector representing the axis of rotation\n",
        "    - `theta` is the angle of rotation in radians\n",
        "    - `translation` is a 3D vector representing the translation to be applied\n",
        "    \"\"\"\n",
        "    # Compute the 3x3 rotation matrix\n",
        "    R = rotation_matrix(rotation_axis, theta)\n",
        "    # 4x4 identity matrix\n",
        "    T = np.eye(4)\n",
        "    # Insert the rotation matrix into the affine transformation matrix\n",
        "    # (Into the top-left 3x3 submatrix of `T`)\n",
        "    T[:3, :3] = R\n",
        "    # \"Insert\" the translation vector into the affine transformation matrix\n",
        "    # (Into the fourth column of the top three rows of `T`)\n",
        "    T[:3, 3] = translation\n",
        "    return T"
      ],
      "metadata": {
        "id": "c9pSka3PFy5l"
      },
      "execution_count": null,
      "outputs": []
    },
    {
      "cell_type": "code",
      "source": [
        "# Step 3: Apply the affine transformation\n",
        "def apply_affine(points, affine_mat):\n",
        "    \"\"\"\n",
        "    - `points` is an array representing N 3D points\n",
        "    - `affine_mat` is a 4 x 4 affine transformation matrix\n",
        "    \"\"\"\n",
        "    # Convert the 3D points into homogenous coordinates\n",
        "    points_homogeneous = np.hstack((points, np.ones((points.shape[0], 1))))\n",
        "    # Apply the affine transformation\n",
        "    transformed_points = points_homogeneous @ affine_mat.T # matrix multiplication\n",
        "    # Convert it back to the 3D coordinates\n",
        "    return transformed_points[:, :3]"
      ],
      "metadata": {
        "id": "75yr1ag4F08P"
      },
      "execution_count": null,
      "outputs": []
    },
    {
      "cell_type": "code",
      "source": [
        "# Step 4: Define the perspective projection function\n",
        "def perspective_projection(points):\n",
        "    projected_points = points.copy()\n",
        "    # Apply perspective projection to the x-coordinates of the points\n",
        "    projected_points[:, 0] = points[:, 0] / points[:, 2]\n",
        "    # Apply perspective projection to the y-coordinates of the points\n",
        "    projected_points[:, 1] = points[:, 1] / points[:, 2]\n",
        "    # Return the 2D projected points\n",
        "    return projected_points[:, :2]"
      ],
      "metadata": {
        "id": "mqc2h59iF3CQ"
      },
      "execution_count": null,
      "outputs": []
    },
    {
      "cell_type": "code",
      "source": [
        "# 3D Rendering Engine\n",
        "# Create the cube\n",
        "cube = create_cube()\n",
        "\n",
        "# Animation loop\n",
        "for i, theta in enumerate(np.linspace(0, 2*np.pi, 100)):\n",
        "    # Set up the affine transformation parameters\n",
        "    rotation_axis = np.array([0, 1, 0])\n",
        "    translation = np.array([0, 0, 4])  # Move the cube closer to the camera\n",
        "    affine_mat = affine_matrix(rotation_axis, theta, translation)\n",
        "\n",
        "    # Apply the affine transformation\n",
        "    transformed_cube = apply_affine(cube, affine_mat)\n",
        "\n",
        "    # Perform perspective projection\n",
        "    projected_cube = perspective_projection(transformed_cube)\n",
        "\n",
        "    # Create a blank image\n",
        "    img_size = (400, 400)\n",
        "    image = Image.new(\"RGB\", img_size, \"white\")\n",
        "    draw = ImageDraw.Draw(image)\n",
        "\n",
        "    # Center the cube in the image\n",
        "    center = np.array(img_size) / 2\n",
        "\n",
        "    # Scale the projected points for better visualization\n",
        "    scale = 100\n",
        "    projected_cube = projected_cube * scale + center\n",
        "\n",
        "    # Draw the cube edges\n",
        "    edges = [(0, 1), (1, 2), (2, 3), (3, 0), (4, 5), (5, 6), (6, 7), (7, 4), (0, 4), (1, 5), (2, 6), (3, 7)]\n",
        "    for edge in edges:\n",
        "        p1 = tuple(projected_cube[edge[0]])\n",
        "        p2 = tuple(projected_cube[edge[1]])\n",
        "        draw.line([p1, p2], fill=\"black\", width=2)\n",
        "\n",
        "    # Save the current frame as an image\n",
        "    filename = os.path.join(output_dir, f\"frame_{i:03d}.png\")\n",
        "    image.save(filename)"
      ],
      "metadata": {
        "id": "Cwp0WLIzF432"
      },
      "execution_count": null,
      "outputs": []
    }
  ]
}